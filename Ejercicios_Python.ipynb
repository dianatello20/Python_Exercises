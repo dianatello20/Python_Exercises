{
  "nbformat": 4,
  "nbformat_minor": 0,
  "metadata": {
    "colab": {
      "provenance": [],
      "authorship_tag": "ABX9TyMpXVX7U5C4YzciPXphIZde",
      "include_colab_link": true
    },
    "kernelspec": {
      "name": "python3",
      "display_name": "Python 3"
    },
    "language_info": {
      "name": "python"
    }
  },
  "cells": [
    {
      "cell_type": "markdown",
      "metadata": {
        "id": "view-in-github",
        "colab_type": "text"
      },
      "source": [
        "<a href=\"https://colab.research.google.com/github/dianatello20/Python_Exercises/blob/main/Ejercicios_Python.ipynb\" target=\"_parent\"><img src=\"https://colab.research.google.com/assets/colab-badge.svg\" alt=\"Open In Colab\"/></a>"
      ]
    },
    {
      "cell_type": "markdown",
      "source": [
        "# **EXERCISES N. 1**"
      ],
      "metadata": {
        "id": "Bl2omMRwuw_n"
      }
    },
    {
      "cell_type": "code",
      "execution_count": null,
      "metadata": {
        "colab": {
          "base_uri": "https://localhost:8080/"
        },
        "id": "rPpc85MlpGKk",
        "outputId": "704e8b31-0dd0-4d8e-e3db-85999d3cab15"
      },
      "outputs": [
        {
          "output_type": "stream",
          "name": "stdout",
          "text": [
            "Escribe tu edad actual: 21\n",
            "Su edad dentro de 10 años será 31\n"
          ]
        }
      ],
      "source": [
        "\"\"\"\n",
        "Homework # 1: Diana Marcela Tello Achury\n",
        "\"\"\"\n",
        "##\n",
        "# EXERCISES N. 1\n",
        "# Resolve the following exercises using a code editor, an IDE, or a Jupyter Notebook. Then, upload the files to a GitHub public repository. Finally, share the repository's URL as a response to this thread.\n",
        "# Exercise 1\n",
        "# Write a program that:\n",
        "# Asks the user for their current age.\n",
        "# Calculates and displays their age 10 years from now.\n",
        "\n",
        "edad= int(input('Escribe tu edad actual: '))\n",
        "\n",
        "edad_f= edad+10\n",
        "\n",
        "print(f'Su edad dentro de 10 años será {edad_f}')"
      ]
    },
    {
      "cell_type": "code",
      "source": [
        "'''#Exercise 2\n",
        "Write a program that:\n",
        "Asks the user for their favorite color, food, and hobby.\n",
        "Outputs a summary sentence using their inputs.'''\n",
        "\n",
        "color= str(input( 'Escribe tu color favorito: '))\n",
        "\n",
        "food= str(input( 'Escribe tu comida favorita: '))\n",
        "\n",
        "hobby= str(input( 'Escribe tu hobby favorito: '))\n",
        "\n",
        "print(f'El color favorito de la persona es {color}, su comida favorita es {food}, su hobby favorito es {hobby}.')\n"
      ],
      "metadata": {
        "colab": {
          "base_uri": "https://localhost:8080/"
        },
        "id": "OqDbT2adpxr5",
        "outputId": "04aa4542-4966-49ca-ac86-7c07d818e661"
      },
      "execution_count": null,
      "outputs": [
        {
          "output_type": "stream",
          "name": "stdout",
          "text": [
            "Escribe tu color favorito: azul\n",
            "Escribe tu comida favorita: pasta\n",
            "Escribe tu hobby favorito: bici\n",
            "El color favorito de la persona es azul, su comida favorita es pasta, su hobby favorito es bici.\n"
          ]
        }
      ]
    },
    {
      "cell_type": "code",
      "source": [
        "'''Exercise 3\n",
        "Write a program that:\n",
        "Prompts the user to enter a temperature in Celsius.\n",
        "Converts it to Fahrenheit and displays the result.'''\n",
        "\n",
        "temperatura= int(input('Ingresa la temperatura en grados Celsius: '))\n",
        "\n",
        "Faren= temperatura*(9/5)+32\n",
        "\n",
        "print(f'La temperatura en grados Fahrenheit es: {Faren}')"
      ],
      "metadata": {
        "colab": {
          "base_uri": "https://localhost:8080/"
        },
        "id": "aMLCQuHzsOxQ",
        "outputId": "058f8ba4-772b-4b59-dd74-43d984dd876a"
      },
      "execution_count": null,
      "outputs": [
        {
          "output_type": "stream",
          "name": "stdout",
          "text": [
            "Ingresa la temperatura en grados Celsius: 30\n",
            "La temperatura en grados Fahrenheit es: 86.0\n"
          ]
        }
      ]
    },
    {
      "cell_type": "code",
      "source": [
        "'''Exercise 4\n",
        "Write a program that:\n",
        "Asks the user to guess a number between 1 and 10.\n",
        "Outputs whether the guess is correct (assume the number is 7 for this exercise).'''\n",
        "\n",
        "\n",
        "number= int(input('Escribe un número del 1 al 10: '))\n",
        "\n",
        "number=7\n",
        "\n",
        "if number >= 0 and number <=10:\n",
        "    print('El número ingresado es correcto')\n",
        "else:\n",
        "    print('El número ingresado es incorrecto')\n"
      ],
      "metadata": {
        "colab": {
          "base_uri": "https://localhost:8080/"
        },
        "id": "MAmZl9ogtRU6",
        "outputId": "7f37e881-1f77-4576-9160-21b2d3793f51"
      },
      "execution_count": null,
      "outputs": [
        {
          "output_type": "stream",
          "name": "stdout",
          "text": [
            "Escribe un número del 1 al 10: 15\n",
            "El número ingresado es correcto\n"
          ]
        }
      ]
    },
    {
      "cell_type": "code",
      "source": [
        "'''Exercise 5\n",
        "Write a program that:\n",
        "Asks the user to input a word and a number.\n",
        "Prints the word repeated that number of times.'''\n",
        "\n",
        "word= str(input('Escribe una palabra: '))\n",
        "\n",
        "number= int(input('Escribe un número: '))\n",
        "\n",
        "print(word*number)\n"
      ],
      "metadata": {
        "colab": {
          "base_uri": "https://localhost:8080/"
        },
        "id": "Qrhobu4fuKkU",
        "outputId": "8689f1fe-43af-4c21-aff0-ff160f0f5f42"
      },
      "execution_count": null,
      "outputs": [
        {
          "output_type": "stream",
          "name": "stdout",
          "text": [
            "Escribe una palabra: hola\n",
            "Escribe un número: 8\n",
            "holaholaholaholaholaholaholahola\n"
          ]
        }
      ]
    },
    {
      "cell_type": "markdown",
      "source": [
        "# **EXERCISES N. 2**"
      ],
      "metadata": {
        "id": "k8UhESojug3e"
      }
    },
    {
      "cell_type": "code",
      "source": [
        "'''Exercise 1\n",
        "Write a program that:\n",
        "Asks the user to enter a sentence.\n",
        "Outputs the sentence in all uppercase, all lowercase, and with the first letter of each word capitalized'''\n",
        "\n",
        "frase= str(input('Escribe una frase: '))\n",
        "\n",
        "frase_mayus= frase.upper()\n",
        "\n",
        "frase_minus= frase.lower()\n",
        "\n",
        "frase_cap=frase.title()\n",
        "\n",
        "print(f'La frase en mayúsculas es: {frase_mayus}')\n",
        "print(f'La frase en minúsculas es: {frase_minus}')\n",
        "print(f'La frase con la primera letra de cada palabra en mayúscula es: {frase_cap}')\n",
        "\n"
      ],
      "metadata": {
        "colab": {
          "base_uri": "https://localhost:8080/"
        },
        "id": "1JrNx_s1utei",
        "outputId": "05044d5e-ac85-4bdf-f15a-036493c154d8"
      },
      "execution_count": null,
      "outputs": [
        {
          "output_type": "stream",
          "name": "stdout",
          "text": [
            "Escribe una frase: hola como estas\n",
            "La frase en mayúsculas es: HOLA COMO ESTAS\n",
            "La frase en minúsculas es: hola como estas\n",
            "La frase con la primera letra de cada palabra en mayúscula es: Hola Como Estas\n"
          ]
        }
      ]
    },
    {
      "cell_type": "code",
      "source": [
        "\n",
        "'''Exercise 2\n",
        "Write a program that:\n",
        "Asks the user to input two boolean values (True or False).\n",
        "Evaluates and displays the results of logical operations (and, or, not) between the two values.'''\n",
        "\n",
        "\n",
        "bool1 = input(\"Escribe 'True' o 'False' para el primer valor: \").strip().lower() == \"true\"\n",
        "bool2 = input(\"Escribe 'True' o 'False' para el segundo valor: \").strip().lower() == \"true\"\n",
        "\n",
        "bool_and = bool1 and bool2\n",
        "bool_or = bool1 or bool2\n",
        "bool1_not = not bool1\n",
        "bool2_not = not bool2\n",
        "\n",
        "\n",
        "\n",
        "print(f'El valor booleano de la operación \"and\" es: {bool_and}')\n",
        "print(f'El valor booleano de la operación \"or\" es: {bool_or}')\n",
        "print(f'El valor booleano de la operación \"not\" es: {bool1_not}')\n",
        "print(f'El valor booleano de la operación \"not\" es: {bool2_not}')\n",
        "\n"
      ],
      "metadata": {
        "colab": {
          "base_uri": "https://localhost:8080/"
        },
        "id": "FHna5MiWu8_R",
        "outputId": "3e59f888-aeb9-4d04-8164-e17c8c135c32"
      },
      "execution_count": null,
      "outputs": [
        {
          "output_type": "stream",
          "name": "stdout",
          "text": [
            "Escribe 'True' o 'False' para el primer valor: false\n",
            "Escribe 'True' o 'False' para el segundo valor: false\n",
            "El valor booleano de la operación \"and\" es: False\n",
            "El valor booleano de la operación \"or\" es: False\n",
            "El valor booleano de la operación \"not\" es: True\n",
            "El valor booleano de la operación \"not\" es: True\n"
          ]
        }
      ]
    }
  ]
}