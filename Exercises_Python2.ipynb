{
  "nbformat": 4,
  "nbformat_minor": 0,
  "metadata": {
    "colab": {
      "provenance": [],
      "authorship_tag": "ABX9TyMZD7JB9OmiioCd+Xgb8trd",
      "include_colab_link": true
    },
    "kernelspec": {
      "name": "python3",
      "display_name": "Python 3"
    },
    "language_info": {
      "name": "python"
    }
  },
  "cells": [
    {
      "cell_type": "markdown",
      "metadata": {
        "id": "view-in-github",
        "colab_type": "text"
      },
      "source": [
        "<a href=\"https://colab.research.google.com/github/dianatello20/Python_Exercises/blob/main/Exercises_Python2.ipynb\" target=\"_parent\"><img src=\"https://colab.research.google.com/assets/colab-badge.svg\" alt=\"Open In Colab\"/></a>"
      ]
    },
    {
      "cell_type": "code",
      "execution_count": null,
      "metadata": {
        "id": "Gqt0LRwWJgTN"
      },
      "outputs": [],
      "source": [
        "'''\n",
        "EXERCISES N. 3\n",
        "Resolve the following exercises using a code editor, an IDE, or a Jupyter Notebook. Then, upload the files to a GitHub public repository. Finally, share the repository's URL as a response to this thread.\n",
        "'''"
      ]
    },
    {
      "cell_type": "markdown",
      "source": [
        "**Exercise 1**\n",
        "Write a program that:\n",
        "Asks the user for a year.\n",
        "Determines whether the year is a leap year.\n",
        "Hint: A leap year is divisible by 4 but not by 100 unless also divisible by 400."
      ],
      "metadata": {
        "id": "wKeKzqQDJ1wI"
      }
    },
    {
      "cell_type": "code",
      "source": [
        "year=int(input('Escribe un año: '))\n",
        "\n",
        "if year%4==0 and year%100!=0 or year%400==0:\n",
        "  print('El año es bisiesto')\n",
        "else:\n",
        "  print('El año no es bisiesto')\n"
      ],
      "metadata": {
        "colab": {
          "base_uri": "https://localhost:8080/"
        },
        "id": "FYs5GuSAJ1M1",
        "outputId": "8b6c6928-2fbe-4261-bf2f-04ec16fb873c"
      },
      "execution_count": 8,
      "outputs": [
        {
          "output_type": "stream",
          "name": "stdout",
          "text": [
            "Escribe un año: 2023\n",
            "El año no es bisiesto\n"
          ]
        }
      ]
    },
    {
      "cell_type": "markdown",
      "source": [
        "**Exercise 2**\n",
        "Write a program that:\n",
        "Prompts the user to input two numbers and an operator (+, -, *, /).\n",
        "Performs the operation and displays the result."
      ],
      "metadata": {
        "id": "IWEEDa3QLKmL"
      }
    },
    {
      "cell_type": "code",
      "source": [
        "a= int(input('Escribe el primer número: '))\n",
        "b= int(input('Escribe el segundo número: '))\n",
        "o= input('Escribe el operador: ')\n",
        "\n",
        "oper= a+b if o=='+' else a-b if o=='-' else a*b if o=='*' else a/b if o=='/' else 'Operador no válido'\n",
        "\n",
        "print(f'El resultado de la operación es: {oper}')\n"
      ],
      "metadata": {
        "colab": {
          "base_uri": "https://localhost:8080/"
        },
        "id": "L8QZwVLALJou",
        "outputId": "31078ef8-e6d3-455f-e679-cc081d4d9291"
      },
      "execution_count": 13,
      "outputs": [
        {
          "output_type": "stream",
          "name": "stdout",
          "text": [
            "Escribe el primer número: 9\n",
            "Escribe el segundo número: 5\n",
            "Escribe el operador: =\n",
            "El resultado de la operación es: Operador no válido\n"
          ]
        }
      ]
    },
    {
      "cell_type": "markdown",
      "source": [
        "**Exercise 3**\n",
        "Write a program that:\n",
        "Prompts the user to input a number.\n",
        "Classifies the number as positive, negative, or zero."
      ],
      "metadata": {
        "id": "e_rciO5iMTrW"
      }
    },
    {
      "cell_type": "code",
      "source": [
        "a= int(input('Escribe un número: '))\n",
        "\n",
        "if a >0:\n",
        "  print('El número es positivo')\n",
        "if a <0:\n",
        "  print('El número es negativo')\n",
        "if a==0:\n",
        "  print('El número es cero')\n"
      ],
      "metadata": {
        "colab": {
          "base_uri": "https://localhost:8080/"
        },
        "id": "USbOoKskMaK6",
        "outputId": "be74823f-014e-4898-fe78-f822a008c88f"
      },
      "execution_count": 19,
      "outputs": [
        {
          "output_type": "stream",
          "name": "stdout",
          "text": [
            "Escribe un número: 0\n",
            "El número es cero\n"
          ]
        }
      ]
    },
    {
      "cell_type": "markdown",
      "source": [
        "**Exercise 4**\n",
        "Write a program using match...case that:\n",
        "Asks the user to input a number (1-7).\n",
        "Outputs the corresponding day of the week (e.g., 1 for Monday, 7 for Sunday)."
      ],
      "metadata": {
        "id": "bQRda-ILNCjJ"
      }
    },
    {
      "cell_type": "code",
      "source": [
        "x= int(input('Escribe un número del 1 al 7: '))\n",
        "\n",
        "match x:\n",
        "  case 1:\n",
        "    print('Lunes')\n",
        "  case 2:\n",
        "    print('Martes')\n",
        "  case 3:\n",
        "    print('Miercoles')\n",
        "  case 4:\n",
        "    print('Jueves')\n",
        "  case 5:\n",
        "    print('Viernes')\n",
        "  case 6:\n",
        "    print('Sábado')\n",
        "  case 7:\n",
        "    print('Domingo')\n",
        "  case _:\n",
        "    print('Número no válido')"
      ],
      "metadata": {
        "colab": {
          "base_uri": "https://localhost:8080/"
        },
        "id": "qSkec2MCNGqk",
        "outputId": "9df1b41d-6893-434d-d688-a996cceeb7bf"
      },
      "execution_count": 22,
      "outputs": [
        {
          "output_type": "stream",
          "name": "stdout",
          "text": [
            "Escribe un número del 1 al 7: 6\n",
            "Sábado\n"
          ]
        }
      ]
    },
    {
      "cell_type": "markdown",
      "source": [
        "**Exercise 5**\n",
        "Write a program that:\n",
        "Prompts the user to input a single character.\n",
        "Determines if the character is a vowel, consonant, digit, or special character."
      ],
      "metadata": {
        "id": "cUrFy7GXOYmA"
      }
    },
    {
      "cell_type": "code",
      "source": [
        "character= input('Escribe un carácter: ')\n",
        "\n",
        "if character.isalpha():\n",
        "  if character in 'aeiouAEIOU':\n",
        "    print('Es una vocal')\n",
        "\n",
        "  else:\n",
        "    print('Es una consonante')\n",
        "\n",
        "elif character.isdigit():\n",
        "  print('Es un dígito')\n",
        "else:\n",
        "  print('Es un carácter especial')\n"
      ],
      "metadata": {
        "colab": {
          "base_uri": "https://localhost:8080/"
        },
        "id": "kQj_MrlcOeCR",
        "outputId": "a2510997-9483-4b8d-c725-8890da53651b"
      },
      "execution_count": 39,
      "outputs": [
        {
          "output_type": "stream",
          "name": "stdout",
          "text": [
            "Escribe un carácter: &\n",
            "Es un carácter especial\n"
          ]
        }
      ]
    }
  ]
}