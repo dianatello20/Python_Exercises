{
  "nbformat": 4,
  "nbformat_minor": 0,
  "metadata": {
    "colab": {
      "provenance": [],
      "authorship_tag": "ABX9TyPN8+qItuTs2egHltySaRbr",
      "include_colab_link": true
    },
    "kernelspec": {
      "name": "python3",
      "display_name": "Python 3"
    },
    "language_info": {
      "name": "python"
    }
  },
  "cells": [
    {
      "cell_type": "markdown",
      "metadata": {
        "id": "view-in-github",
        "colab_type": "text"
      },
      "source": [
        "<a href=\"https://colab.research.google.com/github/dianatello20/Python_Exercises/blob/main/Exercises_Python3.ipynb\" target=\"_parent\"><img src=\"https://colab.research.google.com/assets/colab-badge.svg\" alt=\"Open In Colab\"/></a>"
      ]
    },
    {
      "cell_type": "markdown",
      "source": [
        "**EXERCISES N. 4**\n",
        "Resolve the following exercises using a code editor, an IDE, or a Jupyter Notebook. Then, upload the files to a GitHub public repository. Finally, share the repository's URL as a response to this thread.\n",
        "\n"
      ],
      "metadata": {
        "id": "Ppl8wnadcsHI"
      }
    },
    {
      "cell_type": "markdown",
      "source": [
        "**Exercise 1**\n",
        "Write a program that:\n",
        "Prompts the user to input a number.\n",
        "Uses a for loop to display its multiplication table up to 10."
      ],
      "metadata": {
        "id": "oj3pleG0W2J0"
      }
    },
    {
      "cell_type": "code",
      "source": [
        "n= int(input(\"Ingresa un número: \"))\n",
        "print('La tabla de multiplicar es: ')\n",
        "for i in range(1,11):\n",
        "  a=n*i\n",
        "  print(f' {n} * {i} = {a}')"
      ],
      "metadata": {
        "colab": {
          "base_uri": "https://localhost:8080/"
        },
        "id": "ueZipy8ZW70j",
        "outputId": "2d0ba5b4-f5b7-46df-d001-986fc4254d26"
      },
      "execution_count": 7,
      "outputs": [
        {
          "output_type": "stream",
          "name": "stdout",
          "text": [
            "Ingresa un número: 6\n",
            "La tabla de multiplicar es: \n",
            " 6 * 1 = 6\n",
            " 6 * 2 = 12\n",
            " 6 * 3 = 18\n",
            " 6 * 4 = 24\n",
            " 6 * 5 = 30\n",
            " 6 * 6 = 36\n",
            " 6 * 7 = 42\n",
            " 6 * 8 = 48\n",
            " 6 * 9 = 54\n",
            " 6 * 10 = 60\n"
          ]
        }
      ]
    },
    {
      "cell_type": "markdown",
      "source": [
        "**Exercise 2**\n",
        "Write a program that:\n",
        "Uses a while loop to let the user guess a number (predefined in the program, e.g., 7).\n",
        "Provides feedback (\"Too high\", \"Too low\", or \"Correct\") and ends the loop when the user guesses correctly."
      ],
      "metadata": {
        "id": "g-ugHbD7Yfwn"
      }
    },
    {
      "cell_type": "code",
      "source": [
        "a= 7\n",
        "\n",
        "x= int(input('Adivina el número:'))\n",
        "\n",
        "while x!=a:\n",
        "  if x<a:\n",
        "    print('Demasiado bajo')\n",
        "  elif x>a:\n",
        "    print('Demasiado alto')\n",
        "  x= int(input('Adivina el número:'))\n",
        "print('Correcto')"
      ],
      "metadata": {
        "colab": {
          "base_uri": "https://localhost:8080/"
        },
        "id": "JWKmUAc1YhZL",
        "outputId": "f02043c3-5c40-4e1c-b081-9acf8fd8d1bc"
      },
      "execution_count": 15,
      "outputs": [
        {
          "output_type": "stream",
          "name": "stdout",
          "text": [
            "Adivina el número:9\n",
            "Demasiado alto\n",
            "Adivina el número:8\n",
            "Demasiado alto\n",
            "Adivina el número:10\n",
            "Demasiado alto\n",
            "Adivina el número:10\n",
            "Demasiado alto\n",
            "Adivina el número:7\n",
            "Correcto\n"
          ]
        }
      ]
    },
    {
      "cell_type": "markdown",
      "source": [
        "**Exercise 3**\n",
        "Write a program that:\n",
        "Prompts the user to enter a string.\n",
        "Uses a for loop to count and display the number of vowels (a, e, i, o, u) in the string."
      ],
      "metadata": {
        "id": "4zWPW9KlaRWB"
      }
    },
    {
      "cell_type": "code",
      "source": [
        "frase= str(input('Ingresa una frase: '))\n",
        "Count=0\n",
        "\n",
        "for i in frase:\n",
        "  if i in 'aeiouAEIOU':\n",
        "    Count+=1\n",
        "\n",
        "\n",
        "print(f'La cantidad de vocales en la frase son: {Count}')"
      ],
      "metadata": {
        "colab": {
          "base_uri": "https://localhost:8080/"
        },
        "id": "8Y6wulCqad2N",
        "outputId": "b202e8cb-b74a-4c27-b820-ceebdb30e656"
      },
      "execution_count": 20,
      "outputs": [
        {
          "output_type": "stream",
          "name": "stdout",
          "text": [
            "Ingresa una frase: HolA ChArlIE\n",
            "La cantidad de vocales en la frase son: 5\n"
          ]
        }
      ]
    },
    {
      "cell_type": "markdown",
      "source": [
        "**Exercise 4**\n",
        "Write a program that:\n",
        "Prompts the user to input a string.\n",
        "Uses a for loop to reverse the string and display the result."
      ],
      "metadata": {
        "id": "HHvhW8_hbgIb"
      }
    },
    {
      "cell_type": "code",
      "source": [
        "frase= str(input('Ingresa una frase: '))\n",
        "\n",
        "for i in frase:\n",
        "  i= frase[::-1]\n",
        "print(f'La frase al revés es: {i}')"
      ],
      "metadata": {
        "colab": {
          "base_uri": "https://localhost:8080/"
        },
        "id": "-3hjHNeublPd",
        "outputId": "dafbd1ea-d0ca-405a-c3f3-03d5950d119d"
      },
      "execution_count": 21,
      "outputs": [
        {
          "output_type": "stream",
          "name": "stdout",
          "text": [
            "Ingresa una frase: Hola Carola \n",
            "La frase al revés es:  aloraC aloH\n"
          ]
        }
      ]
    },
    {
      "cell_type": "markdown",
      "source": [
        "**Exercise 5**\n",
        "Write a program that:\n",
        "Uses a for loop to iterate through numbers from 1 to 50.\n",
        "For multiples of 3, print \"Fizz\".\n",
        "For multiples of 5, print \"Buzz\".\n",
        "For multiples of both 3 and 5, print \"FizzBuzz\".\n",
        "Otherwise, print the number."
      ],
      "metadata": {
        "id": "tdJnrqqTcdW2"
      }
    },
    {
      "cell_type": "code",
      "source": [
        "for i in range(1,51):\n",
        "  if i%3== 0 and i%5==0:\n",
        "    print('FizzBuzz')\n",
        "  elif i%3==0:\n",
        "    print('Fizz')\n",
        "  elif i%5==0:\n",
        "    print('Buzz')\n",
        "  else:\n",
        "    print(i)\n"
      ],
      "metadata": {
        "colab": {
          "base_uri": "https://localhost:8080/"
        },
        "id": "6uw2fqg6ckHt",
        "outputId": "af4b3717-5904-4431-b4ef-1250e0e301f8"
      },
      "execution_count": 29,
      "outputs": [
        {
          "output_type": "stream",
          "name": "stdout",
          "text": [
            "1\n",
            "2\n",
            "Fizz\n",
            "4\n",
            "Buzz\n",
            "Fizz\n",
            "7\n",
            "8\n",
            "Fizz\n",
            "Buzz\n",
            "11\n",
            "Fizz\n",
            "13\n",
            "14\n",
            "FizzBuzz\n",
            "16\n",
            "17\n",
            "Fizz\n",
            "19\n",
            "Buzz\n",
            "Fizz\n",
            "22\n",
            "23\n",
            "Fizz\n",
            "Buzz\n",
            "26\n",
            "Fizz\n",
            "28\n",
            "29\n",
            "FizzBuzz\n",
            "31\n",
            "32\n",
            "Fizz\n",
            "34\n",
            "Buzz\n",
            "Fizz\n",
            "37\n",
            "38\n",
            "Fizz\n",
            "Buzz\n",
            "41\n",
            "Fizz\n",
            "43\n",
            "44\n",
            "FizzBuzz\n",
            "46\n",
            "47\n",
            "Fizz\n",
            "49\n",
            "Buzz\n"
          ]
        }
      ]
    }
  ]
}